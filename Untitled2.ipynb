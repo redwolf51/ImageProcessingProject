{
  "nbformat": 4,
  "nbformat_minor": 0,
  "metadata": {
    "colab": {
      "provenance": [],
      "authorship_tag": "ABX9TyMOGxkAwVrjEhzn6WSj7BIA",
      "include_colab_link": true
    },
    "kernelspec": {
      "name": "python3",
      "display_name": "Python 3"
    },
    "language_info": {
      "name": "python"
    }
  },
  "cells": [
    {
      "cell_type": "markdown",
      "metadata": {
        "id": "view-in-github",
        "colab_type": "text"
      },
      "source": [
        "<a href=\"https://colab.research.google.com/github/redwolf51/ImageProcessingProject/blob/master/Untitled2.ipynb\" target=\"_parent\"><img src=\"https://colab.research.google.com/assets/colab-badge.svg\" alt=\"Open In Colab\"/></a>"
      ]
    },
    {
      "cell_type": "code",
      "source": [
        "import cv2\n",
        "import numpy as np\n",
        "from PIL import Image\n",
        "\n",
        "\n",
        "def warpaffine(image):\n",
        "    rows, cols, ch = image.shape\n",
        "    pts1 = np.float32([[50, 50],\n",
        "                       [200, 50],\n",
        "                       [50, 200]])\n",
        "    pts2 = np.float32([[50, 100],\n",
        "                       [200, 50],\n",
        "                       [150, 200]])\n",
        "    points = cv2.getAffineTransform(pts1, pts2)\n",
        "    img = cv2.wrapAffine(image, points, (cols, rows))\n",
        "    img_conv = Image.fromarray(img)\n",
        "    return img_conv\n",
        "\n",
        "def gray_scale(image):\n",
        "    gray_image = cv2.cvtColor(image, cv2.COLOR_BGR2GRAY)\n",
        "    img_conv = Image.fromarray(gray_image)\n",
        "    return img_conv\n",
        "\n",
        "\n",
        "def negative_transformation(image):\n",
        "    height, width, _ = image.shape\n",
        "    for i in range(0, height - 1):\n",
        "        for j in range(0, width - 1):\n",
        "            pixel = image[i, j]\n",
        "            pixel[0] = 255 - pixel[0]\n",
        "            pixel[1] = 255 - pixel[1]\n",
        "            pixel[2] = 255 - pixel[2]\n",
        "    return image\n",
        "\n",
        "\n",
        "\n",
        "def edge_detection(image):\n",
        "    edges = cv2.Canny(image, 40, 80, L2gradient=True)\n",
        "    img_conv = Image.fromarray(edges)\n",
        "    return img_conv\n",
        "\n",
        "\n",
        "\n",
        "def Gaussian_Blur(image):\n",
        "\n",
        "    Blur = cv2.GaussianBlur(image, (5, 5), cv2.BORDER_DEFAULT)\n",
        "    img_conv = Image.fromarray(Blur)\n",
        "    return img_conv\n",
        "\n",
        "def sharp_image(image):\n",
        "    kernel = np.array([[0, -1, 0],\n",
        "                       [-1, 5, -1],\n",
        "                       [0, -1, 0]])\n",
        "    image_sharp = cv2.filter2D(src=image, ddepth=-1, kernel=kernel)\n",
        "    img_conv = Image.fromarray(image_sharp)\n",
        "    return img_conv\n",
        "\n",
        "\n",
        "def reduce_noise(image):\n",
        "\n",
        "    noiseless_image_colored = cv2.fastNlMeansDenoisingColored(image, None, 20, 20, 7, 21)\n",
        "    img_conv = Image.fromarray(noiseless_image_colored)\n",
        "    return img_conv\n",
        "\n",
        "\n",
        "\n",
        "\n",
        "\n",
        "\n",
        ""
      ],
      "metadata": {
        "id": "MXWK9NZMB1jZ"
      },
      "execution_count": 10,
      "outputs": []
    },
    {
      "cell_type": "code",
      "execution_count": 9,
      "metadata": {
        "collapsed": true,
        "id": "_1t0Y65q8lyh"
      },
      "outputs": [],
      "source": []
    }
  ]
}